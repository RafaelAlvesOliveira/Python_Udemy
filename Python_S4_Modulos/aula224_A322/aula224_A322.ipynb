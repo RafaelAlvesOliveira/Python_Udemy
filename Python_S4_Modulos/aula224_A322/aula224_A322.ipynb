{
 "cells": [
  {
   "cell_type": "code",
   "execution_count": null,
   "id": "512c8dc7-d14e-4b50-b5b7-e7470ac844a3",
   "metadata": {
    "vscode": {
     "languageId": "python"
    }
   },
   "outputs": [],
   "source": []
  }
 ],
 "metadata": {
  "kernelspec": {
   "display_name": "",
   "name": ""
  },
  "language_info": {
   "name": ""
  }
 },
 "nbformat": 4,
 "nbformat_minor": 5
}
